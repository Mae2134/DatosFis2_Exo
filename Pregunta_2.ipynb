{
 "cells": [
  {
   "cell_type": "markdown",
   "metadata": {},
   "source": [
    "# **Q2**: ¿Todas las estrellas que albergan sistemas planetarios tienen necesariamente la misma masa que el Sol?"
   ]
  },
  {
   "cell_type": "markdown",
   "metadata": {},
   "source": [
    "1.- Convierte los datos del semieje mayor de los sistemas planetarios de Unidades Astronómicas (UA) a metros, y los datos del período orbital de años a segundos. "
   ]
  },
  {
   "cell_type": "code",
   "execution_count": 27,
   "metadata": {},
   "outputs": [
    {
     "name": "stdout",
     "output_type": "stream",
     "text": [
      "['Nombre', 'Semieje_mayor(UA)', 'Periodo_orbital(aÃ±os)', 'Masa(Masa_relativa_a_la_Tierra)']\n",
      "['TRAPPIST-1b    0.0120               0.0041                   1.37', 'Teegardenb     0.0252               0.0135                   1.16', 'LHS_1140b      0.0960               0.0677                   6.38', 'TOI-125b       0.0520               0.0127                   9.50', 'Kepler-289b    0.2100               0.0946                   7.31', 'K2-290b        0.0920               0.0252                   10.90', 'HR_8799b       67.9600              455.8893                 1589.14', 'HD_203387b     1.7700               1.4055                   1110']\n"
     ]
    }
   ],
   "source": [
    "import numpy as np\n",
    "\n",
    "file_dat_preg2 = open(\"datos_planetas_b.txt\",\"r\")\n",
    "lineas_preg2 = file_dat_preg2.readlines()\n",
    "file_dat_preg2.close()\n",
    "head = lineas_preg2[0].split()\n",
    "salto = lineas_preg2[1:]\n",
    "datos_q2 = [linea.strip() for linea in salto]\n",
    "print(head)\n",
    "print(datos_q2)\n",
    "###########################\n",
    "\n",
    "planetas_b = []\n",
    "periodo_orbital_años = []\n",
    "semieje_mayor_UA = []\n",
    "masa_relativa_tierra = []\n",
    "for i in datos_q2:\n",
    "    planetas_b.append(i.split()[0])\n",
    "    periodo_orbital_años.append(float(i.split()[2]))\n",
    "    semieje_mayor_UA.append(float(i.split()[1]))\n",
    "    masa_relativa_tierra.append(float(i.split()[3]))\n",
    "\n",
    "###############################\n",
    "# Convertir a array y transformar unidades.\n",
    "###############################\n",
    "\n",
    "semieje_mayor_UA = np.array(semieje_mayor_UA)\n",
    "periodo_orbital_años = np.array(periodo_orbital_años)\n",
    "\n",
    "# Transformación\n",
    "\n",
    "metros_semieje_mayor = semieje_mayor_UA * 1.50*10**11\n",
    "segundos_periodo_orbital = periodo_orbital_años * 31557600"
   ]
  },
  {
   "cell_type": "code",
   "execution_count": 30,
   "metadata": {},
   "outputs": [
    {
     "data": {
      "text/html": [
       "<div>\n",
       "<style scoped>\n",
       "    .dataframe tbody tr th:only-of-type {\n",
       "        vertical-align: middle;\n",
       "    }\n",
       "\n",
       "    .dataframe tbody tr th {\n",
       "        vertical-align: top;\n",
       "    }\n",
       "\n",
       "    .dataframe thead th {\n",
       "        text-align: right;\n",
       "    }\n",
       "</style>\n",
       "<table border=\"1\" class=\"dataframe\">\n",
       "  <thead>\n",
       "    <tr style=\"text-align: right;\">\n",
       "      <th></th>\n",
       "      <th>Nombre del planeta_b</th>\n",
       "      <th>Semieje mayor de la órbita (metros)</th>\n",
       "      <th>Periodo orbital (segundos)</th>\n",
       "      <th>Masa (relativa a la tierra)</th>\n",
       "    </tr>\n",
       "  </thead>\n",
       "  <tbody>\n",
       "    <tr>\n",
       "      <th>0</th>\n",
       "      <td>TRAPPIST-1b</td>\n",
       "      <td>1.800000e+09</td>\n",
       "      <td>1.293862e+05</td>\n",
       "      <td>1.37</td>\n",
       "    </tr>\n",
       "    <tr>\n",
       "      <th>1</th>\n",
       "      <td>Teegardenb</td>\n",
       "      <td>3.780000e+09</td>\n",
       "      <td>4.260276e+05</td>\n",
       "      <td>1.16</td>\n",
       "    </tr>\n",
       "    <tr>\n",
       "      <th>2</th>\n",
       "      <td>LHS_1140b</td>\n",
       "      <td>1.440000e+10</td>\n",
       "      <td>2.136450e+06</td>\n",
       "      <td>6.38</td>\n",
       "    </tr>\n",
       "    <tr>\n",
       "      <th>3</th>\n",
       "      <td>TOI-125b</td>\n",
       "      <td>7.800000e+09</td>\n",
       "      <td>4.007815e+05</td>\n",
       "      <td>9.50</td>\n",
       "    </tr>\n",
       "    <tr>\n",
       "      <th>4</th>\n",
       "      <td>Kepler-289b</td>\n",
       "      <td>3.150000e+10</td>\n",
       "      <td>2.985349e+06</td>\n",
       "      <td>7.31</td>\n",
       "    </tr>\n",
       "    <tr>\n",
       "      <th>5</th>\n",
       "      <td>K2-290b</td>\n",
       "      <td>1.380000e+10</td>\n",
       "      <td>7.952515e+05</td>\n",
       "      <td>10.90</td>\n",
       "    </tr>\n",
       "    <tr>\n",
       "      <th>6</th>\n",
       "      <td>HR_8799b</td>\n",
       "      <td>1.019400e+13</td>\n",
       "      <td>1.438677e+10</td>\n",
       "      <td>1589.14</td>\n",
       "    </tr>\n",
       "    <tr>\n",
       "      <th>7</th>\n",
       "      <td>HD_203387b</td>\n",
       "      <td>2.655000e+11</td>\n",
       "      <td>4.435421e+07</td>\n",
       "      <td>1110.00</td>\n",
       "    </tr>\n",
       "  </tbody>\n",
       "</table>\n",
       "</div>"
      ],
      "text/plain": [
       "  Nombre del planeta_b  Semieje mayor de la órbita (metros)  \\\n",
       "0          TRAPPIST-1b                         1.800000e+09   \n",
       "1           Teegardenb                         3.780000e+09   \n",
       "2            LHS_1140b                         1.440000e+10   \n",
       "3             TOI-125b                         7.800000e+09   \n",
       "4          Kepler-289b                         3.150000e+10   \n",
       "5              K2-290b                         1.380000e+10   \n",
       "6             HR_8799b                         1.019400e+13   \n",
       "7           HD_203387b                         2.655000e+11   \n",
       "\n",
       "   Periodo orbital (segundos)  Masa (relativa a la tierra)  \n",
       "0                1.293862e+05                         1.37  \n",
       "1                4.260276e+05                         1.16  \n",
       "2                2.136450e+06                         6.38  \n",
       "3                4.007815e+05                         9.50  \n",
       "4                2.985349e+06                         7.31  \n",
       "5                7.952515e+05                        10.90  \n",
       "6                1.438677e+10                      1589.14  \n",
       "7                4.435421e+07                      1110.00  "
      ]
     },
     "metadata": {},
     "output_type": "display_data"
    }
   ],
   "source": [
    "import pandas as pd\n",
    "from IPython.display import display\n",
    "\n",
    "df = pd.DataFrame({\"Nombre del planeta_b\": planetas_b,\n",
    "                   \"Semieje mayor de la órbita (metros)\": metros_semieje_mayor,\n",
    "                   \"Periodo orbital (segundos)\": segundos_periodo_orbital,\n",
    "                   \"Masa (relativa a la tierra)\": masa_relativa_tierra})\n",
    "\n",
    "display(df)\n"
   ]
  }
 ],
 "metadata": {
  "kernelspec": {
   "display_name": "Python 3",
   "language": "python",
   "name": "python3"
  },
  "language_info": {
   "codemirror_mode": {
    "name": "ipython",
    "version": 3
   },
   "file_extension": ".py",
   "mimetype": "text/x-python",
   "name": "python",
   "nbconvert_exporter": "python",
   "pygments_lexer": "ipython3",
   "version": "3.12.3"
  }
 },
 "nbformat": 4,
 "nbformat_minor": 2
}
