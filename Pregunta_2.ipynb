{
 "cells": [
  {
   "cell_type": "markdown",
   "metadata": {},
   "source": [
    "# **Q2**: ¿Todas las estrellas que albergan sistemas planetarios tienen necesariamente la misma masa que el Sol?"
   ]
  },
  {
   "cell_type": "markdown",
   "metadata": {},
   "source": [
    "1.- Convierte los datos del semieje mayor de los sistemas planetarios de Unidades Astronómicas (UA) a metros, y los datos del período orbital de años a segundos. "
   ]
  },
  {
   "cell_type": "code",
   "execution_count": 40,
   "metadata": {},
   "outputs": [
    {
     "name": "stdout",
     "output_type": "stream",
     "text": [
      "['Nombre', 'Semieje_mayor(UA)', 'Periodo_orbital(aÃ±os)', 'Masa(Masa_relativa_a_la_Tierra)']\n",
      "['TRAPPIST-1b    0.0120               0.0041                   1.37', 'Teegardenb     0.0252               0.0135                   1.16', 'LHS_1140b      0.0960               0.0677                   6.38', 'TOI-125b       0.0520               0.0127                   9.50', 'Kepler-289b    0.2100               0.0946                   7.31', 'K2-290b        0.0920               0.0252                   10.90', 'HR_8799b       67.9600              455.8893                 1589.14', 'HD_203387b     1.7700               1.4055                   1110']\n"
     ]
    }
   ],
   "source": [
    "import numpy as np\n",
    "\n",
    "file_dat_preg2 = open(\"datos_planetas_b.txt\",\"r\")\n",
    "lineas_preg2 = file_dat_preg2.readlines()\n",
    "file_dat_preg2.close()\n",
    "head = lineas_preg2[0].split()\n",
    "salto = lineas_preg2[1:]\n",
    "datos_q2 = [linea.strip() for linea in salto]\n",
    "print(head)\n",
    "print(datos_q2)\n",
    "###########################\n",
    "\n",
    "planetas_b = []\n",
    "periodo_orbital_años = []\n",
    "semieje_mayor_UA = []\n",
    "masa_relativa_tierra = []\n",
    "for i in datos_q2:\n",
    "    planetas_b.append(i.split()[0])\n",
    "    periodo_orbital_años.append(float(i.split()[2]))\n",
    "    semieje_mayor_UA.append(float(i.split()[1]))\n",
    "    masa_relativa_tierra.append(float(i.split()[3]))\n",
    "\n",
    "###############################\n",
    "# Convertir a array y transformar unidades.\n",
    "###############################\n",
    "\n",
    "semieje_mayor_UA = np.array(semieje_mayor_UA)\n",
    "periodo_orbital_años = np.array(periodo_orbital_años)\n",
    "masa_relativa_tierra = np.array(masa_relativa_tierra)\n",
    "\n",
    "# Transformación\n",
    "\n",
    "metros_semieje_mayor = semieje_mayor_UA * 1.50*10**11\n",
    "segundos_periodo_orbital = periodo_orbital_años * 31557600\n",
    "masa_relativa_sol = masa_relativa_tierra / 332.946"
   ]
  },
  {
   "cell_type": "markdown",
   "metadata": {},
   "source": [
    "2.-Determine las masas de las estrellas relativas al Sol para los sistemas extrasolares, utilizando los valores del planeta b de cada sistema que se encuentra en la base de datos. ¿Cómo se comparan estos valores con la masa del Sol? \n"
   ]
  },
  {
   "cell_type": "code",
   "execution_count": 41,
   "metadata": {},
   "outputs": [
    {
     "data": {
      "text/html": [
       "<div>\n",
       "<style scoped>\n",
       "    .dataframe tbody tr th:only-of-type {\n",
       "        vertical-align: middle;\n",
       "    }\n",
       "\n",
       "    .dataframe tbody tr th {\n",
       "        vertical-align: top;\n",
       "    }\n",
       "\n",
       "    .dataframe thead th {\n",
       "        text-align: right;\n",
       "    }\n",
       "</style>\n",
       "<table border=\"1\" class=\"dataframe\">\n",
       "  <thead>\n",
       "    <tr style=\"text-align: right;\">\n",
       "      <th></th>\n",
       "      <th>Nombre del planeta_b</th>\n",
       "      <th>Periodo orbital (s)</th>\n",
       "      <th>Semieje mayor de la órbita (m)</th>\n",
       "      <th>Masa (relativa al sol)</th>\n",
       "    </tr>\n",
       "  </thead>\n",
       "  <tbody>\n",
       "    <tr>\n",
       "      <th>0</th>\n",
       "      <td>TRAPPIST-1b</td>\n",
       "      <td>1.293862e+05</td>\n",
       "      <td>1.800000e+09</td>\n",
       "      <td>0.004115</td>\n",
       "    </tr>\n",
       "    <tr>\n",
       "      <th>1</th>\n",
       "      <td>Teegardenb</td>\n",
       "      <td>4.260276e+05</td>\n",
       "      <td>3.780000e+09</td>\n",
       "      <td>0.003484</td>\n",
       "    </tr>\n",
       "    <tr>\n",
       "      <th>2</th>\n",
       "      <td>LHS_1140b</td>\n",
       "      <td>2.136450e+06</td>\n",
       "      <td>1.440000e+10</td>\n",
       "      <td>0.019162</td>\n",
       "    </tr>\n",
       "    <tr>\n",
       "      <th>3</th>\n",
       "      <td>TOI-125b</td>\n",
       "      <td>4.007815e+05</td>\n",
       "      <td>7.800000e+09</td>\n",
       "      <td>0.028533</td>\n",
       "    </tr>\n",
       "    <tr>\n",
       "      <th>4</th>\n",
       "      <td>Kepler-289b</td>\n",
       "      <td>2.985349e+06</td>\n",
       "      <td>3.150000e+10</td>\n",
       "      <td>0.021956</td>\n",
       "    </tr>\n",
       "    <tr>\n",
       "      <th>5</th>\n",
       "      <td>K2-290b</td>\n",
       "      <td>7.952515e+05</td>\n",
       "      <td>1.380000e+10</td>\n",
       "      <td>0.032738</td>\n",
       "    </tr>\n",
       "    <tr>\n",
       "      <th>6</th>\n",
       "      <td>HR_8799b</td>\n",
       "      <td>1.438677e+10</td>\n",
       "      <td>1.019400e+13</td>\n",
       "      <td>4.772966</td>\n",
       "    </tr>\n",
       "    <tr>\n",
       "      <th>7</th>\n",
       "      <td>HD_203387b</td>\n",
       "      <td>4.435421e+07</td>\n",
       "      <td>2.655000e+11</td>\n",
       "      <td>3.333874</td>\n",
       "    </tr>\n",
       "  </tbody>\n",
       "</table>\n",
       "</div>"
      ],
      "text/plain": [
       "  Nombre del planeta_b  Periodo orbital (s)  Semieje mayor de la órbita (m)  \\\n",
       "0          TRAPPIST-1b         1.293862e+05                    1.800000e+09   \n",
       "1           Teegardenb         4.260276e+05                    3.780000e+09   \n",
       "2            LHS_1140b         2.136450e+06                    1.440000e+10   \n",
       "3             TOI-125b         4.007815e+05                    7.800000e+09   \n",
       "4          Kepler-289b         2.985349e+06                    3.150000e+10   \n",
       "5              K2-290b         7.952515e+05                    1.380000e+10   \n",
       "6             HR_8799b         1.438677e+10                    1.019400e+13   \n",
       "7           HD_203387b         4.435421e+07                    2.655000e+11   \n",
       "\n",
       "   Masa (relativa al sol)  \n",
       "0                0.004115  \n",
       "1                0.003484  \n",
       "2                0.019162  \n",
       "3                0.028533  \n",
       "4                0.021956  \n",
       "5                0.032738  \n",
       "6                4.772966  \n",
       "7                3.333874  "
      ]
     },
     "metadata": {},
     "output_type": "display_data"
    }
   ],
   "source": [
    "import pandas as pd\n",
    "from IPython.display import display\n",
    "\n",
    "df = pd.DataFrame({\"Nombre del planeta_b\": planetas_b,\n",
    "                   \"Periodo orbital (s)\": segundos_periodo_orbital,\n",
    "                   \"Semieje mayor de la órbita (m)\": metros_semieje_mayor,\n",
    "                   \"Masa (relativa al sol)\": masa_relativa_sol})\n",
    "\n",
    "display(df)\n"
   ]
  },
  {
   "cell_type": "markdown",
   "metadata": {},
   "source": [
    "##### 3.  Considere los valores de “Masa de la estrella” de la Tabla 1."
   ]
  },
  {
   "cell_type": "markdown",
   "metadata": {},
   "source": [
    "a) ¿Cuál es el sistema con la estrella más masiva?  \n",
    ">R: según la tabla, sería HR 8799b  \n",
    "\n",
    "b) ¿Cuál es el sistema con la estrella menos masiva?  \n",
    ">R: Sería Teegardenb.  \n",
    "\n",
    "c) ¿Cuántas veces es la masa de la estrella más masiva en comparación a la más pequeña?  "
   ]
  },
  {
   "cell_type": "code",
   "execution_count": 42,
   "metadata": {},
   "outputs": [
    {
     "name": "stdout",
     "output_type": "stream",
     "text": [
      " La Razón de tamaño de la más grande es de 1369.9482758620693 veces mayor en comparación de la más pequeña\n"
     ]
    }
   ],
   "source": [
    "Razon = masa_relativa_sol[6]/masa_relativa_sol[1]\n",
    "print(f\" La Razón de tamaño de la más grande es de {Razon} veces mayor en comparación de la más pequeña\")"
   ]
  },
  {
   "cell_type": "markdown",
   "metadata": {},
   "source": [
    "4. a) Investiga si el planeta b de cada sistema de la tabla corresponde al planeta más cercano a su estrella y rellena la Tabla 2.  Si el planeta b no corresponde al planeta más cercano a la estrella ¿por qué crees que lo denotaron con la letra b?"
   ]
  },
  {
   "cell_type": "markdown",
   "metadata": {},
   "source": [
    " b) Considerando la masa de cada planeta y los datos de la masa de la estrella, período orbital y semieje mayor, ¿Existe alguna relación entre algunas de estas variables?. "
   ]
  },
  {
   "cell_type": "markdown",
   "metadata": {},
   "source": [
    "c) Según tus resultados, ¿Confirmas o rechazas la hipótesis de que a estrellas grandes le corresponden planetas grandes con períodos orbitales largos y semieje mayores alejados de la estrella?"
   ]
  },
  {
   "cell_type": "code",
   "execution_count": 43,
   "metadata": {},
   "outputs": [
    {
     "data": {
      "text/html": [
       "<div>\n",
       "<style scoped>\n",
       "    .dataframe tbody tr th:only-of-type {\n",
       "        vertical-align: middle;\n",
       "    }\n",
       "\n",
       "    .dataframe tbody tr th {\n",
       "        vertical-align: top;\n",
       "    }\n",
       "\n",
       "    .dataframe thead th {\n",
       "        text-align: right;\n",
       "    }\n",
       "</style>\n",
       "<table border=\"1\" class=\"dataframe\">\n",
       "  <thead>\n",
       "    <tr style=\"text-align: right;\">\n",
       "      <th></th>\n",
       "      <th>Nombre del planeta_b</th>\n",
       "      <th>¿Es el planeta más cercano a su estrella?</th>\n",
       "    </tr>\n",
       "  </thead>\n",
       "  <tbody>\n",
       "    <tr>\n",
       "      <th>0</th>\n",
       "      <td>TRAPPIST-1b</td>\n",
       "      <td>0</td>\n",
       "    </tr>\n",
       "    <tr>\n",
       "      <th>1</th>\n",
       "      <td>Teegardenb</td>\n",
       "      <td>0</td>\n",
       "    </tr>\n",
       "    <tr>\n",
       "      <th>2</th>\n",
       "      <td>LHS_1140b</td>\n",
       "      <td>0</td>\n",
       "    </tr>\n",
       "    <tr>\n",
       "      <th>3</th>\n",
       "      <td>TOI-125b</td>\n",
       "      <td>0</td>\n",
       "    </tr>\n",
       "    <tr>\n",
       "      <th>4</th>\n",
       "      <td>Kepler-289b</td>\n",
       "      <td>0</td>\n",
       "    </tr>\n",
       "    <tr>\n",
       "      <th>5</th>\n",
       "      <td>K2-290b</td>\n",
       "      <td>0</td>\n",
       "    </tr>\n",
       "    <tr>\n",
       "      <th>6</th>\n",
       "      <td>HR_8799b</td>\n",
       "      <td>0</td>\n",
       "    </tr>\n",
       "    <tr>\n",
       "      <th>7</th>\n",
       "      <td>HD_203387b</td>\n",
       "      <td>0</td>\n",
       "    </tr>\n",
       "  </tbody>\n",
       "</table>\n",
       "</div>"
      ],
      "text/plain": [
       "  Nombre del planeta_b  ¿Es el planeta más cercano a su estrella?\n",
       "0          TRAPPIST-1b                                          0\n",
       "1           Teegardenb                                          0\n",
       "2            LHS_1140b                                          0\n",
       "3             TOI-125b                                          0\n",
       "4          Kepler-289b                                          0\n",
       "5              K2-290b                                          0\n",
       "6             HR_8799b                                          0\n",
       "7           HD_203387b                                          0"
      ]
     },
     "metadata": {},
     "output_type": "display_data"
    }
   ],
   "source": [
    "\n",
    "df2 = pd.DataFrame({\"Nombre del planeta_b\": planetas_b,\n",
    "                   \"¿Es el planeta más cercano a su estrella?\": 0})\n",
    "display(df2)"
   ]
  }
 ],
 "metadata": {
  "kernelspec": {
   "display_name": "Python 3",
   "language": "python",
   "name": "python3"
  },
  "language_info": {
   "codemirror_mode": {
    "name": "ipython",
    "version": 3
   },
   "file_extension": ".py",
   "mimetype": "text/x-python",
   "name": "python",
   "nbconvert_exporter": "python",
   "pygments_lexer": "ipython3",
   "version": "3.12.3"
  }
 },
 "nbformat": 4,
 "nbformat_minor": 2
}
