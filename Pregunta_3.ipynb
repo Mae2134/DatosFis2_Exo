{
 "cells": [
  {
   "cell_type": "markdown",
   "metadata": {},
   "source": [
    "## Q3: ¿Cómo se aplica la Tercera Ley de Kepler a diferentes tipos de sistemas extrasolares?  \n",
    "1.- En las actividades 1 y 2 estudiamos sistemas extrasolares de una estrella utilizando las leyes de Kepler y Gravitación universal. En esta ocasión, utilizaremos dos sistemas binarios y aplicaremos la Tercera Ley de Kepler ¿Crees que estas leyes son válidas para estos sistemas? Justifica tu respuesta."
   ]
  },
  {
   "cell_type": "code",
   "execution_count": 1,
   "metadata": {},
   "outputs": [
    {
     "name": "stdout",
     "output_type": "stream",
     "text": [
      "['Exoplaneta', 'Periodo(aÃ±os)', 'Semieje_(UA)']\n",
      "['NN_Ser_(AB)_c      15.49          5.39', 'NN_Ser_(AB)_d      7.65           3.36', 'Kepler-47_(AB)_b   0.14           0.30', 'Kepler-47_(AB)_c   0.83           0.99', 'Kepler-47_(AB)_d   0.51           0.70']\n"
     ]
    }
   ],
   "source": [
    "import numpy as np\n",
    "import matplotlib.pyplot as plt\n",
    "\n",
    "file_bin = open(\"datos_planetas_binarios.txt\",\"r\")\n",
    "lin_bin = file_bin.readlines()\n",
    "file_bin.close()\n",
    "head = lin_bin[0].split()\n",
    "salto = lin_bin[1:]\n",
    "datosq3 = [linea.strip() for linea in salto]\n",
    "print(head)\n",
    "print(datosq3)\n",
    "###########################\n",
    "\n",
    "exoplaneta = []\n",
    "periodo_orbital_años = []\n",
    "semieje = []\n",
    "for i in datosq3:\n",
    "    exoplaneta.append(i.split()[0])\n",
    "    periodo_orbital_años.append(float(i.split()[1]))\n",
    "    semieje.append(float(i.split()[2]))\n"
   ]
  },
  {
   "cell_type": "code",
   "execution_count": 2,
   "metadata": {},
   "outputs": [
    {
     "data": {
      "text/html": [
       "<div>\n",
       "<style scoped>\n",
       "    .dataframe tbody tr th:only-of-type {\n",
       "        vertical-align: middle;\n",
       "    }\n",
       "\n",
       "    .dataframe tbody tr th {\n",
       "        vertical-align: top;\n",
       "    }\n",
       "\n",
       "    .dataframe thead th {\n",
       "        text-align: right;\n",
       "    }\n",
       "</style>\n",
       "<table border=\"1\" class=\"dataframe\">\n",
       "  <thead>\n",
       "    <tr style=\"text-align: right;\">\n",
       "      <th></th>\n",
       "      <th>Exoplaneta</th>\n",
       "      <th>Periodo (años)</th>\n",
       "      <th>Semieje (AU)</th>\n",
       "    </tr>\n",
       "  </thead>\n",
       "  <tbody>\n",
       "    <tr>\n",
       "      <th>0</th>\n",
       "      <td>NN_Ser_(AB)_c</td>\n",
       "      <td>15.49</td>\n",
       "      <td>5.39</td>\n",
       "    </tr>\n",
       "    <tr>\n",
       "      <th>1</th>\n",
       "      <td>NN_Ser_(AB)_d</td>\n",
       "      <td>7.65</td>\n",
       "      <td>3.36</td>\n",
       "    </tr>\n",
       "    <tr>\n",
       "      <th>2</th>\n",
       "      <td>Kepler-47_(AB)_b</td>\n",
       "      <td>0.14</td>\n",
       "      <td>0.30</td>\n",
       "    </tr>\n",
       "    <tr>\n",
       "      <th>3</th>\n",
       "      <td>Kepler-47_(AB)_c</td>\n",
       "      <td>0.83</td>\n",
       "      <td>0.99</td>\n",
       "    </tr>\n",
       "    <tr>\n",
       "      <th>4</th>\n",
       "      <td>Kepler-47_(AB)_d</td>\n",
       "      <td>0.51</td>\n",
       "      <td>0.70</td>\n",
       "    </tr>\n",
       "  </tbody>\n",
       "</table>\n",
       "</div>"
      ],
      "text/plain": [
       "         Exoplaneta  Periodo (años)  Semieje (AU)\n",
       "0     NN_Ser_(AB)_c           15.49          5.39\n",
       "1     NN_Ser_(AB)_d            7.65          3.36\n",
       "2  Kepler-47_(AB)_b            0.14          0.30\n",
       "3  Kepler-47_(AB)_c            0.83          0.99\n",
       "4  Kepler-47_(AB)_d            0.51          0.70"
      ]
     },
     "metadata": {},
     "output_type": "display_data"
    }
   ],
   "source": [
    "import pandas as pd\n",
    "from IPython.display import display\n",
    "\n",
    "df = pd.DataFrame({\"Exoplaneta\": exoplaneta,\n",
    "                   \"Periodo (años)\": periodo_orbital_años,\n",
    "                   \"Semieje (AU)\": semieje})\n",
    "\n",
    "display(df)\n"
   ]
  },
  {
   "cell_type": "markdown",
   "metadata": {},
   "source": [
    "2.- Obtén el valor de la pendiente de la gráfica obtenida para los sistemas de NN SER (AB) y Kepler-47. Rellene los datos obtenidos en la siguiente tabla. "
   ]
  },
  {
   "cell_type": "code",
   "execution_count": 3,
   "metadata": {},
   "outputs": [
    {
     "data": {
      "text/html": [
       "<div>\n",
       "<style scoped>\n",
       "    .dataframe tbody tr th:only-of-type {\n",
       "        vertical-align: middle;\n",
       "    }\n",
       "\n",
       "    .dataframe tbody tr th {\n",
       "        vertical-align: top;\n",
       "    }\n",
       "\n",
       "    .dataframe thead th {\n",
       "        text-align: right;\n",
       "    }\n",
       "</style>\n",
       "<table border=\"1\" class=\"dataframe\">\n",
       "  <thead>\n",
       "    <tr style=\"text-align: right;\">\n",
       "      <th></th>\n",
       "      <th>Nombre planeta</th>\n",
       "      <th>Pendiente</th>\n",
       "    </tr>\n",
       "  </thead>\n",
       "  <tbody>\n",
       "    <tr>\n",
       "      <th>0</th>\n",
       "      <td>NN Ser (AB)</td>\n",
       "      <td>0</td>\n",
       "    </tr>\n",
       "    <tr>\n",
       "      <th>1</th>\n",
       "      <td>Kepler-47</td>\n",
       "      <td>0</td>\n",
       "    </tr>\n",
       "  </tbody>\n",
       "</table>\n",
       "</div>"
      ],
      "text/plain": [
       "  Nombre planeta  Pendiente\n",
       "0    NN Ser (AB)          0\n",
       "1      Kepler-47          0"
      ]
     },
     "metadata": {},
     "output_type": "display_data"
    }
   ],
   "source": [
    "import pandas as pd\n",
    "from IPython.display import display\n",
    "\n",
    "df3 = pd.DataFrame({\"Nombre planeta\": [\"NN Ser (AB)\",\"Kepler-47\"],\n",
    "                   \"Pendiente\": 0})\n",
    "display(df3)"
   ]
  },
  {
   "cell_type": "markdown",
   "metadata": {},
   "source": [
    "## Cálculo de pendientes\n",
    "### NN Ser (AB) :\n",
    "\n"
   ]
  },
  {
   "cell_type": "code",
   "execution_count": 4,
   "metadata": {},
   "outputs": [
    {
     "name": "stdout",
     "output_type": "stream",
     "text": [
      "[15.49, 7.65] \n",
      "\n",
      "[5.39, 3.36] \n",
      "\n",
      "El periodo al cuadrado es: \n",
      "[239.9401, 58.52250000000001]\n",
      "\n",
      "la distancia al cubo es:\n",
      " [156.59081899999998, 37.93305599999999]\n",
      "\n",
      "Las constantes individuales son: \n",
      "[6.248905382062025e-05, 0.0010721841277744509]\n",
      "\n"
     ]
    }
   ],
   "source": [
    "from a3_t2 import Calculadora_Kepler\n",
    "NNSerAB_periodo = []\n",
    "NNSerAB_periodo += periodo_orbital_años[0:2]\n",
    "print(NNSerAB_periodo,\"\\n\")\n",
    "NNSerAB_periodo = np.array(NNSerAB_periodo,)\n",
    "\n",
    "\n",
    "NNSerAB_distancia = []\n",
    "NNSerAB_distancia +=semieje[0:2]\n",
    "print(NNSerAB_distancia,\"\\n\")\n",
    "Kepler_47_distancia = np.array(NNSerAB_distancia)\n",
    "\n",
    "\n",
    "T_2, A_3, K_inv = Calculadora_Kepler(NNSerAB_distancia,NNSerAB_periodo)\n"
   ]
  },
  {
   "cell_type": "code",
   "execution_count": 5,
   "metadata": {},
   "outputs": [
    {
     "data": {
      "image/png": "[encoded data removed]",
      "text/plain": [
       "<Figure size 500x300 with 1 Axes>"
      ]
     },
     "metadata": {},
     "output_type": "display_data"
    }
   ],
   "source": [
    "################################\n",
    "#           Gráfico            #\n",
    "################################\n",
    "\n",
    "plt.figure(figsize=(5, 3))\n",
    "plt.scatter(A_3, T_2)\n",
    "plt.title(\"a³ vs T²\", fontsize=15)\n",
    "plt.xlabel(\"a³\", fontsize=15)\n",
    "plt.ylabel(\"T²\", fontsize=15)\n",
    "plt.show()"
   ]
  },
  {
   "cell_type": "code",
   "execution_count": 6,
   "metadata": {},
   "outputs": [
    {
     "name": "stdout",
     "output_type": "stream",
     "text": [
      "Pendiente (m): 1.528914715845436\n",
      "Intercepto (b): 0.5260924646110596\n",
      "Incertidumbre de la pendiente (Δm): inf\n"
     ]
    },
    {
     "name": "stderr",
     "output_type": "stream",
     "text": [
      "d:\\Users\\Usach\\Documents\\7\\DatosFis2_Exo\\Calcular_Pendiente.py:25: RuntimeWarning: divide by zero encountered in double_scalars\n",
      "  inc_m = np.sqrt(np.sum(d**2) / (D * (n - 2)))  # Usando estrictamente la fórmula de la segunda imagen\n"
     ]
    }
   ],
   "source": [
    "from Calcular_Pendiente import *\n",
    "\n",
    "m,m2 = pendiente(A_3, T_2)"
   ]
  },
  {
   "cell_type": "markdown",
   "metadata": {},
   "source": [
    "### Kepler-47"
   ]
  },
  {
   "cell_type": "code",
   "execution_count": 7,
   "metadata": {},
   "outputs": [
    {
     "name": "stdout",
     "output_type": "stream",
     "text": [
      "[0.14, 0.83, 0.51] \n",
      "\n",
      "[0.3, 0.99, 0.7] \n",
      "\n",
      "El periodo al cuadrado es: \n",
      "[0.019600000000000003, 0.6889, 0.2601]\n",
      "\n",
      "la distancia al cubo es:\n",
      " [0.026999999999999996, 0.970299, 0.3429999999999999]\n",
      "\n",
      "Las constantes individuales son: \n",
      "[995.7831631357014, 0.754118219330431, 6.445520471069666]\n",
      "\n"
     ]
    }
   ],
   "source": [
    "Kepler_47_periodo = []\n",
    "Kepler_47_periodo += periodo_orbital_años[2:]\n",
    "print(Kepler_47_periodo,\"\\n\")\n",
    "Kepler_47_periodo = np.array(Kepler_47_periodo)\n",
    "\n",
    "\n",
    "Kepler_47_distancia = []\n",
    "Kepler_47_distancia += semieje[2:]\n",
    "print(Kepler_47_distancia,\"\\n\")\n",
    "Kepler_47_distancia = np.array(Kepler_47_distancia)\n",
    "\n",
    "T_2_K, A_3_K, K_inv_K = Calculadora_Kepler(Kepler_47_distancia,Kepler_47_periodo)"
   ]
  },
  {
   "cell_type": "code",
   "execution_count": 8,
   "metadata": {},
   "outputs": [
    {
     "data": {
      "image/png": "[encoded data removed]",
      "text/plain": [
       "<Figure size 500x300 with 1 Axes>"
      ]
     },
     "metadata": {},
     "output_type": "display_data"
    }
   ],
   "source": [
    "################################\n",
    "#           Gráfico            #\n",
    "################################\n",
    "\n",
    "plt.figure(figsize=(5, 3))\n",
    "plt.scatter(A_3_K, T_2_K)\n",
    "plt.title(\"a³ vs T²\", fontsize=15)\n",
    "plt.xlabel(\"a³\", fontsize=15)\n",
    "plt.ylabel(\"T²\", fontsize=15)\n",
    "plt.show()"
   ]
  },
  {
   "cell_type": "code",
   "execution_count": 9,
   "metadata": {},
   "outputs": [
    {
     "name": "stdout",
     "output_type": "stream",
     "text": [
      "Pendiente (m): 0.7058652854784002\n",
      "Intercepto (b): 0.007509821246195277\n",
      "Incertidumbre de la pendiente (Δm): 0.019240025322865676\n"
     ]
    }
   ],
   "source": [
    "m_k, m_k2 = pendiente(A_3_K, T_2_K)"
   ]
  },
  {
   "cell_type": "markdown",
   "metadata": {},
   "source": [
    "### Actualizar la tabla"
   ]
  },
  {
   "cell_type": "code",
   "execution_count": 10,
   "metadata": {},
   "outputs": [],
   "source": [
    "pendientes = [m,f\"{m_k} +- {m_k2}\"]"
   ]
  },
  {
   "cell_type": "code",
   "execution_count": 11,
   "metadata": {},
   "outputs": [
    {
     "data": {
      "text/html": [
       "<div>\n",
       "<style scoped>\n",
       "    .dataframe tbody tr th:only-of-type {\n",
       "        vertical-align: middle;\n",
       "    }\n",
       "\n",
       "    .dataframe tbody tr th {\n",
       "        vertical-align: top;\n",
       "    }\n",
       "\n",
       "    .dataframe thead th {\n",
       "        text-align: right;\n",
       "    }\n",
       "</style>\n",
       "<table border=\"1\" class=\"dataframe\">\n",
       "  <thead>\n",
       "    <tr style=\"text-align: right;\">\n",
       "      <th></th>\n",
       "      <th>Nombre planeta</th>\n",
       "      <th>Pendiente</th>\n",
       "    </tr>\n",
       "  </thead>\n",
       "  <tbody>\n",
       "    <tr>\n",
       "      <th>0</th>\n",
       "      <td>NN Ser (AB)</td>\n",
       "      <td>1.528915</td>\n",
       "    </tr>\n",
       "    <tr>\n",
       "      <th>1</th>\n",
       "      <td>Kepler-47</td>\n",
       "      <td>0.7058652854784002 +- 0.019240025322865676</td>\n",
       "    </tr>\n",
       "  </tbody>\n",
       "</table>\n",
       "</div>"
      ],
      "text/plain": [
       "  Nombre planeta                                   Pendiente\n",
       "0    NN Ser (AB)                                    1.528915\n",
       "1      Kepler-47  0.7058652854784002 +- 0.019240025322865676"
      ]
     },
     "metadata": {},
     "output_type": "display_data"
    }
   ],
   "source": [
    "df3 = pd.DataFrame({\"Nombre planeta\": [\"NN Ser (AB)\",\"Kepler-47\"],\n",
    "                   \"Pendiente\":pendientes})\n",
    "display(df3)"
   ]
  }
 ],
 "metadata": {
  "kernelspec": {
   "display_name": "Python 3",
   "language": "python",
   "name": "python3"
  },
  "language_info": {
   "codemirror_mode": {
    "name": "ipython",
    "version": 3
   },
   "file_extension": ".py",
   "mimetype": "text/x-python",
   "name": "python",
   "nbconvert_exporter": "python",
   "pygments_lexer": "ipython3",
   "version": "3.10.2"
  }
 },
 "nbformat": 4,
 "nbformat_minor": 2
}
