{
 "cells": [
  {
   "cell_type": "markdown",
   "metadata": {},
   "source": [
    "## Q3: ¿Cómo se aplica la Tercera Ley de Kepler a diferentes tipos de sistemas extrasolares?  \n",
    "1.- En las actividades 1 y 2 estudiamos sistemas extrasolares de una estrella utilizando las leyes de Kepler y Gravitación universal. En esta ocasión, utilizaremos dos sistemas binarios y aplicaremos la Tercera Ley de Kepler ¿Crees que estas leyes son válidas para estos sistemas? Justifica tu respuesta."
   ]
  },
  {
   "cell_type": "code",
   "execution_count": 1,
   "metadata": {},
   "outputs": [
    {
     "name": "stdout",
     "output_type": "stream",
     "text": [
      "['Exoplaneta', 'Periodo(aÃ±os)', 'Semieje_(UA)']\n",
      "['NN_Ser_(AB)_c      15.49          5.39', 'NN_Ser_(AB)_d      7.65           3.36', 'Kepler-47_(AB)_b   0.14           0.30', 'Kepler-47_(AB)_c   0.83           0.99', 'Kepler-47_(AB)_d   0.51           0.70']\n"
     ]
    }
   ],
   "source": [
    "import numpy as np\n",
    "import matplotlib.pyplot as plt\n",
    "\n",
    "file_bin = open(\"datos_planetas_binarios.txt\",\"r\")\n",
    "lin_bin = file_bin.readlines()\n",
    "file_bin.close()\n",
    "head = lin_bin[0].split()\n",
    "salto = lin_bin[1:]\n",
    "datosq3 = [linea.strip() for linea in salto]\n",
    "print(head)\n",
    "print(datosq3)\n",
    "###########################\n",
    "\n",
    "exoplaneta = []\n",
    "periodo_orbital_años = []\n",
    "semieje = []\n",
    "for i in datosq3:\n",
    "    exoplaneta.append(i.split()[0])\n",
    "    periodo_orbital_años.append(float(i.split()[1]))\n",
    "    semieje.append(float(i.split()[2]))\n"
   ]
  },
  {
   "cell_type": "code",
   "execution_count": 2,
   "metadata": {},
   "outputs": [
    {
     "data": {
      "text/html": [
       "<div>\n",
       "<style scoped>\n",
       "    .dataframe tbody tr th:only-of-type {\n",
       "        vertical-align: middle;\n",
       "    }\n",
       "\n",
       "    .dataframe tbody tr th {\n",
       "        vertical-align: top;\n",
       "    }\n",
       "\n",
       "    .dataframe thead th {\n",
       "        text-align: right;\n",
       "    }\n",
       "</style>\n",
       "<table border=\"1\" class=\"dataframe\">\n",
       "  <thead>\n",
       "    <tr style=\"text-align: right;\">\n",
       "      <th></th>\n",
       "      <th>Exoplaneta</th>\n",
       "      <th>Periodo (años)</th>\n",
       "      <th>Semieje (AU)</th>\n",
       "    </tr>\n",
       "  </thead>\n",
       "  <tbody>\n",
       "    <tr>\n",
       "      <th>0</th>\n",
       "      <td>NN_Ser_(AB)_c</td>\n",
       "      <td>15.49</td>\n",
       "      <td>5.39</td>\n",
       "    </tr>\n",
       "    <tr>\n",
       "      <th>1</th>\n",
       "      <td>NN_Ser_(AB)_d</td>\n",
       "      <td>7.65</td>\n",
       "      <td>3.36</td>\n",
       "    </tr>\n",
       "    <tr>\n",
       "      <th>2</th>\n",
       "      <td>Kepler-47_(AB)_b</td>\n",
       "      <td>0.14</td>\n",
       "      <td>0.30</td>\n",
       "    </tr>\n",
       "    <tr>\n",
       "      <th>3</th>\n",
       "      <td>Kepler-47_(AB)_c</td>\n",
       "      <td>0.83</td>\n",
       "      <td>0.99</td>\n",
       "    </tr>\n",
       "    <tr>\n",
       "      <th>4</th>\n",
       "      <td>Kepler-47_(AB)_d</td>\n",
       "      <td>0.51</td>\n",
       "      <td>0.70</td>\n",
       "    </tr>\n",
       "  </tbody>\n",
       "</table>\n",
       "</div>"
      ],
      "text/plain": [
       "         Exoplaneta  Periodo (años)  Semieje (AU)\n",
       "0     NN_Ser_(AB)_c           15.49          5.39\n",
       "1     NN_Ser_(AB)_d            7.65          3.36\n",
       "2  Kepler-47_(AB)_b            0.14          0.30\n",
       "3  Kepler-47_(AB)_c            0.83          0.99\n",
       "4  Kepler-47_(AB)_d            0.51          0.70"
      ]
     },
     "metadata": {},
     "output_type": "display_data"
    }
   ],
   "source": [
    "import pandas as pd\n",
    "from IPython.display import display\n",
    "\n",
    "df = pd.DataFrame({\"Exoplaneta\": exoplaneta,\n",
    "                   \"Periodo (años)\": periodo_orbital_años,\n",
    "                   \"Semieje (AU)\": semieje})\n",
    "\n",
    "display(df)\n"
   ]
  },
  {
   "cell_type": "markdown",
   "metadata": {},
   "source": [
    "2.- Obtén el valor de la pendiente de la gráfica obtenida para los sistemas de NN SER (AB) y Kepler-47. Rellene los datos obtenidos en la siguiente tabla. "
   ]
  },
  {
   "cell_type": "code",
   "execution_count": 3,
   "metadata": {},
   "outputs": [
    {
     "data": {
      "text/html": [
       "<div>\n",
       "<style scoped>\n",
       "    .dataframe tbody tr th:only-of-type {\n",
       "        vertical-align: middle;\n",
       "    }\n",
       "\n",
       "    .dataframe tbody tr th {\n",
       "        vertical-align: top;\n",
       "    }\n",
       "\n",
       "    .dataframe thead th {\n",
       "        text-align: right;\n",
       "    }\n",
       "</style>\n",
       "<table border=\"1\" class=\"dataframe\">\n",
       "  <thead>\n",
       "    <tr style=\"text-align: right;\">\n",
       "      <th></th>\n",
       "      <th>Nombre planeta</th>\n",
       "      <th>Pendiente</th>\n",
       "    </tr>\n",
       "  </thead>\n",
       "  <tbody>\n",
       "    <tr>\n",
       "      <th>0</th>\n",
       "      <td>NN Ser (AB)</td>\n",
       "      <td>0</td>\n",
       "    </tr>\n",
       "    <tr>\n",
       "      <th>1</th>\n",
       "      <td>Kepler-47</td>\n",
       "      <td>0</td>\n",
       "    </tr>\n",
       "  </tbody>\n",
       "</table>\n",
       "</div>"
      ],
      "text/plain": [
       "  Nombre planeta  Pendiente\n",
       "0    NN Ser (AB)          0\n",
       "1      Kepler-47          0"
      ]
     },
     "metadata": {},
     "output_type": "display_data"
    }
   ],
   "source": [
    "import pandas as pd\n",
    "from IPython.display import display\n",
    "\n",
    "df2 = pd.DataFrame({\"Nombre planeta\": [\"NN Ser (AB)\",\"Kepler-47\"],\n",
    "                   \"Pendiente\": 0})\n",
    "display(df2)"
   ]
  },
  {
   "cell_type": "markdown",
   "metadata": {},
   "source": [
    "## Cálculo de pendientes\n",
    "### NN Ser (AB) :\n",
    "\n"
   ]
  },
  {
   "cell_type": "code",
   "execution_count": 4,
   "metadata": {},
   "outputs": [
    {
     "name": "stdout",
     "output_type": "stream",
     "text": [
      "[[15.49, 7.65]] \n",
      "\n",
      "[[5.39, 3.36]] \n",
      "\n",
      "El periodo al cuadrado es: \n",
      "[array([239.9401,  58.5225])]\n",
      "\n",
      "la distancia al cubo es:\n",
      "\n",
      "Las constantes individuales son: \n",
      "[array([6.24890538e-05, 1.07218413e-03])]\n",
      "\n"
     ]
    },
    {
     "data": {
      "text/plain": [
       "([array([239.9401,  58.5225])],\n",
       " '\\n',\n",
       " [array([156.590819,  37.933056])],\n",
       " '\\n',\n",
       " [array([6.24890538e-05, 1.07218413e-03])])"
      ]
     },
     "execution_count": 4,
     "metadata": {},
     "output_type": "execute_result"
    }
   ],
   "source": [
    "from a3_t2 import Calculadora_Kepler\n",
    "NNSerAB_periodo = []\n",
    "NNSerAB_periodo.append(periodo_orbital_años[0:2])\n",
    "print(NNSerAB_periodo,\"\\n\")\n",
    "NNSerAB_periodo = np.array(NNSerAB_periodo,)\n",
    "\n",
    "\n",
    "NNSerAB_distancia = []\n",
    "NNSerAB_distancia.append(semieje[0:2])\n",
    "print(NNSerAB_distancia,\"\\n\")\n",
    "NNSerAB_distancia = np.array(NNSerAB_distancia)\n",
    "\n",
    "\n",
    "Calculadora_Kepler(NNSerAB_distancia,NNSerAB_periodo)\n"
   ]
  },
  {
   "cell_type": "code",
   "execution_count": 5,
   "metadata": {},
   "outputs": [
    {
     "ename": "NameError",
     "evalue": "name 'A_3' is not defined",
     "output_type": "error",
     "traceback": [
      "\u001b[1;31m---------------------------------------------------------------------------\u001b[0m",
      "\u001b[1;31mNameError\u001b[0m                                 Traceback (most recent call last)",
      "Cell \u001b[1;32mIn[5], line 6\u001b[0m\n\u001b[0;32m      1\u001b[0m \u001b[38;5;66;03m################################\u001b[39;00m\n\u001b[0;32m      2\u001b[0m \u001b[38;5;66;03m#           Gráfico            #\u001b[39;00m\n\u001b[0;32m      3\u001b[0m \u001b[38;5;66;03m################################\u001b[39;00m\n\u001b[0;32m      5\u001b[0m plt\u001b[38;5;241m.\u001b[39mfigure(figsize\u001b[38;5;241m=\u001b[39m(\u001b[38;5;241m10\u001b[39m, \u001b[38;5;241m6\u001b[39m))\n\u001b[1;32m----> 6\u001b[0m plt\u001b[38;5;241m.\u001b[39mscatter(\u001b[43mA_3\u001b[49m, T_2)\n\u001b[0;32m      7\u001b[0m plt\u001b[38;5;241m.\u001b[39mtitle(\u001b[38;5;124m\"\u001b[39m\u001b[38;5;124ma³ vs T²\u001b[39m\u001b[38;5;124m\"\u001b[39m, fontsize\u001b[38;5;241m=\u001b[39m\u001b[38;5;241m15\u001b[39m)\n\u001b[0;32m      8\u001b[0m plt\u001b[38;5;241m.\u001b[39mxlabel(\u001b[38;5;124m\"\u001b[39m\u001b[38;5;124ma³\u001b[39m\u001b[38;5;124m\"\u001b[39m, fontsize\u001b[38;5;241m=\u001b[39m\u001b[38;5;241m15\u001b[39m)\n",
      "\u001b[1;31mNameError\u001b[0m: name 'A_3' is not defined"
     ]
    },
    {
     "data": {
      "text/plain": [
       "<Figure size 1000x600 with 0 Axes>"
      ]
     },
     "metadata": {},
     "output_type": "display_data"
    }
   ],
   "source": [
    "################################\n",
    "#           Gráfico            #\n",
    "################################\n",
    "\n",
    "plt.figure(figsize=(10, 6))\n",
    "plt.scatter(A_3, T_2)\n",
    "plt.title(\"a³ vs T²\", fontsize=15)\n",
    "plt.xlabel(\"a³\", fontsize=15)\n",
    "plt.ylabel(\"T²\", fontsize=15)\n",
    "plt.show()"
   ]
  }
 ],
 "metadata": {
  "kernelspec": {
   "display_name": "Python 3",
   "language": "python",
   "name": "python3"
  },
  "language_info": {
   "codemirror_mode": {
    "name": "ipython",
    "version": 3
   },
   "file_extension": ".py",
   "mimetype": "text/x-python",
   "name": "python",
   "nbconvert_exporter": "python",
   "pygments_lexer": "ipython3",
   "version": "3.10.2"
  }
 },
 "nbformat": 4,
 "nbformat_minor": 2
}
